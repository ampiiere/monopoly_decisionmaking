{
 "cells": [
  {
   "cell_type": "code",
   "execution_count": 38,
   "metadata": {},
   "outputs": [],
   "source": [
    "import numpy as np \n",
    "import seaborn as sns\n",
    "import scipy.linalg as la\n",
    "import pandas as pd\n",
    "import matplotlib.pyplot as plt"
   ]
  },
  {
   "cell_type": "markdown",
   "metadata": {},
   "source": [
    "## Steps\n",
    "1. Find probability matrixes of Roll, GoToJail, Chance, Community, DoubleRule.\n",
    "2. Matmul them\n",
    "3. Find steady state probability using eigen"
   ]
  },
  {
   "cell_type": "code",
   "execution_count": 39,
   "metadata": {},
   "outputs": [],
   "source": [
    "def create_matrix(matrix, mod_row):\n",
    "    # init first row\n",
    "    matrix[:,0] = mod_row\n",
    "    for i, row in enumerate(range(40)):\n",
    "        if i == 0:\n",
    "            continue\n",
    "        last_elem = mod_row.pop()\n",
    "        mod_row = [last_elem] + mod_row\n",
    "        matrix[:,i] = mod_row\n",
    "        \n",
    "    return matrix"
   ]
  },
  {
   "cell_type": "markdown",
   "metadata": {},
   "source": [
    "#### Get Roll matrix\n",
    "- every player rolls 2 6-sided die on their turn\n",
    "- rolling 3 doubles in a row will send the player directly to \"Jail\"(covered in doubleruleMatrix)"
   ]
  },
  {
   "cell_type": "code",
   "execution_count": 40,
   "metadata": {},
   "outputs": [],
   "source": [
    "rollProbabilities = [x / 36 for x in [0,1,2,3,4,5,6,5,4,3,2,1]]"
   ]
  },
  {
   "cell_type": "code",
   "execution_count": 41,
   "metadata": {},
   "outputs": [
    {
     "data": {
      "text/plain": [
       "[0.0,\n",
       " 0.027777777777777776,\n",
       " 0.05555555555555555,\n",
       " 0.08333333333333333,\n",
       " 0.1111111111111111,\n",
       " 0.1388888888888889,\n",
       " 0.16666666666666666,\n",
       " 0.1388888888888889,\n",
       " 0.1111111111111111,\n",
       " 0.08333333333333333,\n",
       " 0.05555555555555555,\n",
       " 0.027777777777777776]"
      ]
     },
     "execution_count": 41,
     "metadata": {},
     "output_type": "execute_result"
    }
   ],
   "source": [
    "rollProbabilities"
   ]
  },
  {
   "cell_type": "code",
   "execution_count": 42,
   "metadata": {},
   "outputs": [],
   "source": [
    "roll_matrix = np.zeros((40,40))\n",
    "roll_row = [0]+rollProbabilities+[0]*27\n",
    "rollMatrix = create_matrix(roll_matrix, roll_row)"
   ]
  },
  {
   "cell_type": "code",
   "execution_count": 43,
   "metadata": {},
   "outputs": [
    {
     "data": {
      "text/plain": [
       "array([[0.        , 0.        , 0.        , ..., 0.05555556, 0.02777778,\n",
       "        0.        ],\n",
       "       [0.        , 0.        , 0.        , ..., 0.08333333, 0.05555556,\n",
       "        0.02777778],\n",
       "       [0.02777778, 0.        , 0.        , ..., 0.11111111, 0.08333333,\n",
       "        0.05555556],\n",
       "       ...,\n",
       "       [0.        , 0.        , 0.        , ..., 0.        , 0.        ,\n",
       "        0.        ],\n",
       "       [0.        , 0.        , 0.        , ..., 0.        , 0.        ,\n",
       "        0.        ],\n",
       "       [0.        , 0.        , 0.        , ..., 0.02777778, 0.        ,\n",
       "        0.        ]])"
      ]
     },
     "execution_count": 43,
     "metadata": {},
     "output_type": "execute_result"
    }
   ],
   "source": [
    "rollMatrix"
   ]
  },
  {
   "cell_type": "code",
   "execution_count": 44,
   "metadata": {},
   "outputs": [
    {
     "name": "stdout",
     "output_type": "stream",
     "text": [
      "[0.         0.         0.         0.02777778 0.05555556 0.08333333\n",
      " 0.11111111 0.13888889 0.16666667 0.13888889 0.11111111 0.08333333\n",
      " 0.05555556 0.02777778 0.         0.         0.         0.\n",
      " 0.         0.         0.         0.         0.         0.\n",
      " 0.         0.         0.         0.         0.         0.\n",
      " 0.         0.         0.         0.         0.         0.\n",
      " 0.         0.         0.         0.        ]\n"
     ]
    }
   ],
   "source": [
    "print(rollMatrix[:, 1])"
   ]
  },
  {
   "cell_type": "markdown",
   "metadata": {},
   "source": [
    "#### Landing on the \"Go to Jail\" Matrix:\n",
    "- \"Go to Jail\" immediately sends you to \"Jail\""
   ]
  },
  {
   "cell_type": "code",
   "execution_count": 45,
   "metadata": {},
   "outputs": [],
   "source": [
    "gotojailMatrix = np.identity(40)\n",
    "gotojailMatrix[30, 30] = 0\n",
    "gotojailMatrix[10, 30] = 1"
   ]
  },
  {
   "cell_type": "code",
   "execution_count": 46,
   "metadata": {},
   "outputs": [
    {
     "name": "stdout",
     "output_type": "stream",
     "text": [
      "[0. 0. 0. 0. 0. 0. 0. 0. 0. 0. 1. 0. 0. 0. 0. 0. 0. 0. 0. 0. 0. 0. 0. 0.\n",
      " 0. 0. 0. 0. 0. 0. 0. 0. 0. 0. 0. 0. 0. 0. 0. 0.]\n"
     ]
    }
   ],
   "source": [
    "print(gotojailMatrix[:,30])"
   ]
  },
  {
   "cell_type": "markdown",
   "metadata": {},
   "source": [
    "#### Chance cards Matrix: 7,22,36\n",
    "Forward moving only, except for going to jail, or force to walk 3 steps back\n",
    "\n",
    "**1/16 chance**\n",
    "- Advance to Go\n",
    "- Go to Jail\n",
    "- Go to Illinois Avenue\n",
    "- Go to St. Charles\n",
    "- Go to Boardwalk\n",
    "- Go back three spaces\n",
    "- Go to nearest Utility (depends on which Chance location you are on)\n",
    "- Go to Reading Railroad\n",
    "\n",
    "**2/16 chance**\n",
    "- Go to nearest Railroad - there are two of these cards\n",
    "\n",
    "**6/16 chance**\n",
    "- Stay where you are"
   ]
  },
  {
   "cell_type": "code",
   "execution_count": 47,
   "metadata": {},
   "outputs": [],
   "source": [
    "chanceMatrix = np.identity(40)\n",
    "\n",
    "chanceMatrix[:,7] = [0]*40\n",
    "chanceMatrix[[0,10,24,11,39,5,4,12],7] = 1.0/16\n",
    "chanceMatrix[15,7] = 2.0/16\n",
    "chanceMatrix[7,7] = 6.0/16\n",
    "\n",
    "chanceMatrix[:,22] = [0]*40\n",
    "chanceMatrix[[0,10,24,11,39,5,19,28],22] = 1.0/16\n",
    "chanceMatrix[25,22] = 2.0/16\n",
    "chanceMatrix[22,22] = 6.0/16\n",
    "\n",
    "chanceMatrix[:,36] = [0]*40\n",
    "chanceMatrix[[0,10,24,11,39,33,12],36] = 1.0/16\n",
    "chanceMatrix[5,36] = 3.0/16\n",
    "chanceMatrix[36,36] = 6.0/16"
   ]
  },
  {
   "cell_type": "code",
   "execution_count": 48,
   "metadata": {},
   "outputs": [
    {
     "data": {
      "text/plain": [
       "array([0.0625, 0.    , 0.    , 0.    , 0.0625, 0.0625, 0.    , 0.375 ,\n",
       "       0.    , 0.    , 0.0625, 0.0625, 0.0625, 0.    , 0.    , 0.125 ,\n",
       "       0.    , 0.    , 0.    , 0.    , 0.    , 0.    , 0.    , 0.    ,\n",
       "       0.0625, 0.    , 0.    , 0.    , 0.    , 0.    , 0.    , 0.    ,\n",
       "       0.    , 0.    , 0.    , 0.    , 0.    , 0.    , 0.    , 0.0625])"
      ]
     },
     "execution_count": 48,
     "metadata": {},
     "output_type": "execute_result"
    }
   ],
   "source": [
    "chanceMatrix[:,7]"
   ]
  },
  {
   "cell_type": "code",
   "execution_count": 49,
   "metadata": {},
   "outputs": [
    {
     "data": {
      "text/plain": [
       "array([0.0625, 0.    , 0.    , 0.    , 0.    , 0.0625, 0.    , 0.    ,\n",
       "       0.    , 0.    , 0.0625, 0.0625, 0.    , 0.    , 0.    , 0.    ,\n",
       "       0.    , 0.    , 0.    , 0.0625, 0.    , 0.    , 0.375 , 0.    ,\n",
       "       0.0625, 0.125 , 0.    , 0.    , 0.0625, 0.    , 0.    , 0.    ,\n",
       "       0.    , 0.    , 0.    , 0.    , 0.    , 0.    , 0.    , 0.0625])"
      ]
     },
     "execution_count": 49,
     "metadata": {},
     "output_type": "execute_result"
    }
   ],
   "source": [
    "chanceMatrix[:,22]"
   ]
  },
  {
   "cell_type": "code",
   "execution_count": 50,
   "metadata": {},
   "outputs": [
    {
     "data": {
      "text/plain": [
       "array([0.0625, 0.    , 0.    , 0.    , 0.    , 0.1875, 0.    , 0.    ,\n",
       "       0.    , 0.    , 0.0625, 0.0625, 0.0625, 0.    , 0.    , 0.    ,\n",
       "       0.    , 0.    , 0.    , 0.    , 0.    , 0.    , 0.    , 0.    ,\n",
       "       0.0625, 0.    , 0.    , 0.    , 0.    , 0.    , 0.    , 0.    ,\n",
       "       0.    , 0.0625, 0.    , 0.    , 0.375 , 0.    , 0.    , 0.0625])"
      ]
     },
     "execution_count": 50,
     "metadata": {},
     "output_type": "execute_result"
    }
   ],
   "source": [
    "chanceMatrix[:,36]"
   ]
  },
  {
   "cell_type": "markdown",
   "metadata": {},
   "source": [
    "#### Community Chest cards Matrix: 2, 17, 33\n",
    "\n",
    "**1/16**\n",
    "- Go to Go\n",
    "- Go to Jail\n",
    "\n",
    "**14/16**\n",
    "- Stay where you are"
   ]
  },
  {
   "cell_type": "code",
   "execution_count": 51,
   "metadata": {},
   "outputs": [],
   "source": [
    "communityMatrix = np.identity(40)\n",
    "\n",
    "communityMatrix[[0,10],2] = 1.0/16\n",
    "communityMatrix[2,2] = 14.0/16\n",
    "\n",
    "communityMatrix[[0,10],17] = 1.0/16\n",
    "communityMatrix[17,17] = 14.0/16\n",
    "\n",
    "communityMatrix[[0,10],33] = 1.0/16\n",
    "communityMatrix[33,33] = 14.0/16"
   ]
  },
  {
   "cell_type": "code",
   "execution_count": 52,
   "metadata": {},
   "outputs": [
    {
     "data": {
      "text/plain": [
       "array([0.0625, 0.    , 0.875 , 0.    , 0.    , 0.    , 0.    , 0.    ,\n",
       "       0.    , 0.    , 0.0625, 0.    , 0.    , 0.    , 0.    , 0.    ,\n",
       "       0.    , 0.    , 0.    , 0.    , 0.    , 0.    , 0.    , 0.    ,\n",
       "       0.    , 0.    , 0.    , 0.    , 0.    , 0.    , 0.    , 0.    ,\n",
       "       0.    , 0.    , 0.    , 0.    , 0.    , 0.    , 0.    , 0.    ])"
      ]
     },
     "execution_count": 52,
     "metadata": {},
     "output_type": "execute_result"
    }
   ],
   "source": [
    "communityMatrix[:, 2]"
   ]
  },
  {
   "cell_type": "code",
   "execution_count": 53,
   "metadata": {},
   "outputs": [
    {
     "data": {
      "text/plain": [
       "array([0.0625, 0.    , 0.    , 0.    , 0.    , 0.    , 0.    , 0.    ,\n",
       "       0.    , 0.    , 0.0625, 0.    , 0.    , 0.    , 0.    , 0.    ,\n",
       "       0.    , 0.875 , 0.    , 0.    , 0.    , 0.    , 0.    , 0.    ,\n",
       "       0.    , 0.    , 0.    , 0.    , 0.    , 0.    , 0.    , 0.    ,\n",
       "       0.    , 0.    , 0.    , 0.    , 0.    , 0.    , 0.    , 0.    ])"
      ]
     },
     "execution_count": 53,
     "metadata": {},
     "output_type": "execute_result"
    }
   ],
   "source": [
    "communityMatrix[:, 17]"
   ]
  },
  {
   "cell_type": "code",
   "execution_count": 54,
   "metadata": {},
   "outputs": [
    {
     "data": {
      "text/plain": [
       "array([0.0625, 0.    , 0.    , 0.    , 0.    , 0.    , 0.    , 0.    ,\n",
       "       0.    , 0.    , 0.0625, 0.    , 0.    , 0.    , 0.    , 0.    ,\n",
       "       0.    , 0.    , 0.    , 0.    , 0.    , 0.    , 0.    , 0.    ,\n",
       "       0.    , 0.    , 0.    , 0.    , 0.    , 0.    , 0.    , 0.    ,\n",
       "       0.    , 0.875 , 0.    , 0.    , 0.    , 0.    , 0.    , 0.    ])"
      ]
     },
     "execution_count": 54,
     "metadata": {},
     "output_type": "execute_result"
    }
   ],
   "source": [
    "communityMatrix[:, 33]"
   ]
  },
  {
   "cell_type": "markdown",
   "metadata": {},
   "source": [
    "#### Double Rule (Deleted, not used)\n",
    "- 648/649: chance of NOT rolling 3 doubles in a row(1/(6^3*3)) at every tile.\n",
    "- 1/648: chance of getting sent to jail at every tile. \n",
    "\n",
    "-> remove the identity matrix!~"
   ]
  },
  {
   "cell_type": "code",
   "execution_count": 55,
   "metadata": {},
   "outputs": [],
   "source": [
    "roll_double = 1.0/(6*6*6*3)\n",
    "not_double = 1.0-roll_double\n",
    "doubleruleMatrix = np.identity(40)*not_double"
   ]
  },
  {
   "cell_type": "code",
   "execution_count": 56,
   "metadata": {},
   "outputs": [],
   "source": [
    "doubleruleMatrix[10, [range(40)]] = roll_double\n",
    "doubleruleMatrix[10, 30] = 1\n",
    "doubleruleMatrix[30, 30] = 0\n",
    "\n",
    "doubleruleMatrix[10,10] = 1"
   ]
  },
  {
   "cell_type": "markdown",
   "metadata": {},
   "source": [
    "#### Final Transition matrix\n"
   ]
  },
  {
   "cell_type": "code",
   "execution_count": 57,
   "metadata": {},
   "outputs": [],
   "source": [
    "# https://jadhav-pritish.medium.com/solving-markov-chains-using-python-35cc79efddd7\n",
    "def find_steady_state_probability(Matrix):\n",
    "    # get vectors\n",
    "    eigen_values, eigen_vectors = la.eig(Matrix)\n",
    "\n",
    "    # steady state probability is eigen vector with eigen value 1\n",
    "    eigen_val_index = [round(elem.real) for elem in eigen_values].index(1.0)\n",
    "\n",
    "    # normalize the eigen vector\n",
    "    return eigen_vectors[:, eigen_val_index] / sum(\n",
    "        eigen_vectors[:, eigen_val_index]\n",
    "    )"
   ]
  },
  {
   "cell_type": "code",
   "execution_count": 58,
   "metadata": {},
   "outputs": [
    {
     "name": "stdout",
     "output_type": "stream",
     "text": [
      "[ 0.03113803  0.02152422  0.01899769  0.02185791  0.02350777  0.02993127\n",
      "  0.02285359  0.00876027  0.02347011  0.02330647  0.0589642   0.02735991\n",
      "  0.02627461  0.02385533  0.02467375  0.02918612  0.02776751  0.02571807\n",
      "  0.02916517  0.03071024  0.02874826  0.02830354  0.01047697  0.02738577\n",
      "  0.03187795  0.03063697  0.02706511  0.02679313  0.02810737  0.02591185\n",
      " -0.          0.02686592  0.02633846  0.0237657   0.0251047   0.02445896\n",
      "  0.00871503  0.02202178  0.02193107  0.02646926]\n"
     ]
    }
   ],
   "source": [
    "# combine the matrixes, and compute steady state probability\n",
    "finalMatrix = np.matmul(np.matmul(np.matmul(communityMatrix, chanceMatrix), gotojailMatrix), rollMatrix)\n",
    "steady_state_vec = find_steady_state_probability(finalMatrix).real\n",
    "print(steady_state_vec)"
   ]
  },
  {
   "cell_type": "code",
   "execution_count": 59,
   "metadata": {},
   "outputs": [],
   "source": [
    "nohouse_pd = pd.read_csv(\"financials/noHouse.csv\")"
   ]
  },
  {
   "cell_type": "code",
   "execution_count": 60,
   "metadata": {},
   "outputs": [
    {
     "data": {
      "text/plain": [
       "0       none\n",
       "1      brown\n",
       "2       none\n",
       "3      brown\n",
       "4       none\n",
       "5       none\n",
       "6       cyan\n",
       "7       none\n",
       "8       cyan\n",
       "9       cyan\n",
       "10      none\n",
       "11      pink\n",
       "12      none\n",
       "13      pink\n",
       "14      pink\n",
       "15      none\n",
       "16    orange\n",
       "17      none\n",
       "18    orange\n",
       "19    orange\n",
       "20      none\n",
       "21       red\n",
       "22      none\n",
       "23       red\n",
       "24       red\n",
       "25      none\n",
       "26    yellow\n",
       "27    yellow\n",
       "28      none\n",
       "29    yellow\n",
       "30      none\n",
       "31     green\n",
       "32     green\n",
       "33      none\n",
       "34     green\n",
       "35      none\n",
       "36      none\n",
       "37      blue\n",
       "38      none\n",
       "39      blue\n",
       "Name: color, dtype: object"
      ]
     },
     "execution_count": 60,
     "metadata": {},
     "output_type": "execute_result"
    }
   ],
   "source": [
    "# assigning \n",
    "nohouse_pd.color.fillna('none')"
   ]
  },
  {
   "cell_type": "code",
   "execution_count": 61,
   "metadata": {},
   "outputs": [],
   "source": [
    "steady_df = pd.DataFrame({'tile':range(0,40), 'steady_probability':steady_state_vec, 'color':nohouse_pd.color.fillna(\"none\"), 'tile_name':nohouse_pd.name})"
   ]
  },
  {
   "cell_type": "code",
   "execution_count": 62,
   "metadata": {},
   "outputs": [],
   "source": [
    "palette ={\"brown\": \"C5\", \"cyan\": \"C9\", \"pink\": \"C6\", \"orange\": \"C1\", \"red\": \"C3\", \"yellow\":\"C8\", \"green\":\"C2\", \"blue\":\"C0\", \"none\":\"C7\"}"
   ]
  },
  {
   "cell_type": "code",
   "execution_count": 63,
   "metadata": {},
   "outputs": [
    {
     "data": {
      "text/plain": [
       "Text(0.5, 1.0, 'Steady state probabilities of tiles')"
      ]
     },
     "execution_count": 63,
     "metadata": {},
     "output_type": "execute_result"
    },
    {
     "data": {
      "image/png": "[encoded data removed]",
      "text/plain": [
       "<Figure size 1000x700 with 1 Axes>"
      ]
     },
     "metadata": {},
     "output_type": "display_data"
    }
   ],
   "source": [
    "sns.set_theme(rc={\"figure.figsize\": (10, 7)})\n",
    "\n",
    "sns.barplot(\n",
    "    data= steady_df,\n",
    "    x = 'tile',\n",
    "    y= 'steady_probability',\n",
    "    hue=\"color\",\n",
    "    palette=palette).set_title(\"Steady state probabilities of tiles\")\n"
   ]
  },
  {
   "cell_type": "code",
   "execution_count": 64,
   "metadata": {},
   "outputs": [
    {
     "data": {
      "text/html": [
       "<div>\n",
       "<style scoped>\n",
       "    .dataframe tbody tr th:only-of-type {\n",
       "        vertical-align: middle;\n",
       "    }\n",
       "\n",
       "    .dataframe tbody tr th {\n",
       "        vertical-align: top;\n",
       "    }\n",
       "\n",
       "    .dataframe thead th {\n",
       "        text-align: right;\n",
       "    }\n",
       "</style>\n",
       "<table border=\"1\" class=\"dataframe\">\n",
       "  <thead>\n",
       "    <tr style=\"text-align: right;\">\n",
       "      <th></th>\n",
       "      <th>tile</th>\n",
       "      <th>steady_probability</th>\n",
       "      <th>color</th>\n",
       "      <th>tile_name</th>\n",
       "    </tr>\n",
       "  </thead>\n",
       "  <tbody>\n",
       "    <tr>\n",
       "      <th>10</th>\n",
       "      <td>10</td>\n",
       "      <td>0.058964</td>\n",
       "      <td>none</td>\n",
       "      <td>Jail</td>\n",
       "    </tr>\n",
       "    <tr>\n",
       "      <th>24</th>\n",
       "      <td>24</td>\n",
       "      <td>0.031878</td>\n",
       "      <td>red</td>\n",
       "      <td>Illinois Avenue</td>\n",
       "    </tr>\n",
       "    <tr>\n",
       "      <th>0</th>\n",
       "      <td>0</td>\n",
       "      <td>0.031138</td>\n",
       "      <td>none</td>\n",
       "      <td>Go</td>\n",
       "    </tr>\n",
       "    <tr>\n",
       "      <th>19</th>\n",
       "      <td>19</td>\n",
       "      <td>0.030710</td>\n",
       "      <td>orange</td>\n",
       "      <td>New York Avenue</td>\n",
       "    </tr>\n",
       "    <tr>\n",
       "      <th>25</th>\n",
       "      <td>25</td>\n",
       "      <td>0.030637</td>\n",
       "      <td>none</td>\n",
       "      <td>B. &amp; O. Railroad</td>\n",
       "    </tr>\n",
       "    <tr>\n",
       "      <th>5</th>\n",
       "      <td>5</td>\n",
       "      <td>0.029931</td>\n",
       "      <td>none</td>\n",
       "      <td>Reading Railroad</td>\n",
       "    </tr>\n",
       "    <tr>\n",
       "      <th>15</th>\n",
       "      <td>15</td>\n",
       "      <td>0.029186</td>\n",
       "      <td>none</td>\n",
       "      <td>Pennsylvania Railroad</td>\n",
       "    </tr>\n",
       "    <tr>\n",
       "      <th>18</th>\n",
       "      <td>18</td>\n",
       "      <td>0.029165</td>\n",
       "      <td>orange</td>\n",
       "      <td>Tennessee Avenue</td>\n",
       "    </tr>\n",
       "    <tr>\n",
       "      <th>20</th>\n",
       "      <td>20</td>\n",
       "      <td>0.028748</td>\n",
       "      <td>none</td>\n",
       "      <td>Free parking</td>\n",
       "    </tr>\n",
       "    <tr>\n",
       "      <th>21</th>\n",
       "      <td>21</td>\n",
       "      <td>0.028304</td>\n",
       "      <td>red</td>\n",
       "      <td>Kentucky Avenue</td>\n",
       "    </tr>\n",
       "  </tbody>\n",
       "</table>\n",
       "</div>"
      ],
      "text/plain": [
       "    tile  steady_probability   color              tile_name\n",
       "10    10            0.058964    none                   Jail\n",
       "24    24            0.031878     red        Illinois Avenue\n",
       "0      0            0.031138    none                     Go\n",
       "19    19            0.030710  orange        New York Avenue\n",
       "25    25            0.030637    none       B. & O. Railroad\n",
       "5      5            0.029931    none       Reading Railroad\n",
       "15    15            0.029186    none  Pennsylvania Railroad\n",
       "18    18            0.029165  orange       Tennessee Avenue\n",
       "20    20            0.028748    none           Free parking\n",
       "21    21            0.028304     red        Kentucky Avenue"
      ]
     },
     "execution_count": 64,
     "metadata": {},
     "output_type": "execute_result"
    }
   ],
   "source": [
    "steady_df.sort_values('steady_probability',ascending = False).head(10)\n"
   ]
  },
  {
   "cell_type": "code",
   "execution_count": 65,
   "metadata": {},
   "outputs": [],
   "source": [
    "steady_df.to_csv(\"steady_state_probi.csv\", encoding=\"utf-8\")"
   ]
  },
  {
   "cell_type": "code",
   "execution_count": null,
   "metadata": {},
   "outputs": [],
   "source": []
  }
 ],
 "metadata": {
  "kernelspec": {
   "display_name": "my-python3-env",
   "language": "python",
   "name": "python3"
  },
  "language_info": {
   "codemirror_mode": {
    "name": "ipython",
    "version": 3
   },
   "file_extension": ".py",
   "mimetype": "text/x-python",
   "name": "python",
   "nbconvert_exporter": "python",
   "pygments_lexer": "ipython3",
   "version": "3.10.5"
  }
 },
 "nbformat": 4,
 "nbformat_minor": 2
}
