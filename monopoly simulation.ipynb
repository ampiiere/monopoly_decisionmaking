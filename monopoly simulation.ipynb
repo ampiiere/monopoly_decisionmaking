{
 "cells": [
  {
   "cell_type": "code",
   "execution_count": 1,
   "id": "33d60171",
   "metadata": {},
   "outputs": [],
   "source": [
    "import random"
   ]
  },
  {
   "cell_type": "code",
   "execution_count": 2,
   "id": "f1dbc4cf",
   "metadata": {},
   "outputs": [],
   "source": [
    "gameMap = ['go', 'cheap1', 'community', 'cheap3', 'parking', 'railroad','cheap6','chance','cheap8','medium9','jail',\n",
    "       'medium11','utility','medium13','medium14','railroad','medium16','community','medium18','medium19','parking',\n",
    "       'medium21','chance','medium23','medium24','railroad','medium26','medium27','utility','medium29','go to jail',\n",
    "       'expensive31','expensive32','community','expensive34','railroad','chance','expensive37','parking','expensive39']"
   ]
  },
  {
   "cell_type": "code",
   "execution_count": 3,
   "id": "e1b3ee4d",
   "metadata": {},
   "outputs": [],
   "source": [
    "gameDict = {'go': [0], 'community': [2], 'parking': [0], 'railroad': [0], 'chance': [3], 'jail' : [0], 'go to jail':[4], 'utility' : [0],\n",
    "           'cheap1':[1, 60, 10],'cheap3':[1, 60, 20],'cheap6':[1, 100,30],'cheap8':[1, 100, 30],\n",
    "            'medium9':[1, 120, 40],'medium11':[1, 140, 50],'medium13':[1, 140, 50],'medium14':[1, 160, 60],'medium16':[1, 180, 70],\n",
    "            'medium18':[1, 180, 70],'medium19':[1, 200, 80],'medium21':[1, 220, 90],'medium23':[1, 220, 90],'medium24':[1, 240, 100],\n",
    "            'medium26':[1, 260, 110],'medium27':[1, 260, 110],'medium29':[1, 280, 120],\n",
    "            'expensive31':[1, 300, 130],'expensive32':[1, 300, 130],'expensive34':[1, 320, 150],'expensive37':[1, 350, 175],'expensive39':[1, 400, 200]}"
   ]
  },
  {
   "cell_type": "code",
   "execution_count": 4,
   "id": "5ebd8c7c",
   "metadata": {},
   "outputs": [],
   "source": [
    "railRoad = [5, 15, 25 ,35]\n",
    "debugSw = False"
   ]
  },
  {
   "cell_type": "code",
   "execution_count": 5,
   "id": "35679d1b",
   "metadata": {},
   "outputs": [],
   "source": [
    "#id, position, debit, playerType 1: 一直买， 2：只买expensive\n",
    "player1 = [1, 0, 500, 1]\n",
    "player2 = [2, 0, 500, 2]\n",
    "playerList = [[0, 0 ,99999], player1, player2] #第一个是无效用户，ignore\n",
    "housePurchase = [0] * 40"
   ]
  },
  {
   "cell_type": "code",
   "execution_count": 6,
   "id": "8e122274",
   "metadata": {},
   "outputs": [],
   "source": [
    "def diceOnce():\n",
    "    return int(6 * random.random() + 1)\n",
    "\n",
    "def debugPrint(Text1, Text2):\n",
    "    if(debugSw):\n",
    "        print(Text1, Text2)"
   ]
  },
  {
   "cell_type": "markdown",
   "id": "58668903",
   "metadata": {},
   "source": [
    "### Purchase strategies"
   ]
  },
  {
   "cell_type": "code",
   "execution_count": null,
   "id": "7ee4f3ee",
   "metadata": {},
   "outputs": [],
   "source": [
    "# purchase strategies, based on cost of tile\n",
    "\n",
    "def noBuy(value):\n",
    "    return False\n",
    "\n",
    "def buyCheap(value):\n",
    "    if(value <= 100):\n",
    "        return True\n",
    "    return False\n",
    "\n",
    "def buyMedium(value):\n",
    "    if (value <= 280 and value > 100):\n",
    "        return True\n",
    "    return False\n",
    "\n",
    "def buyExpensive(value):\n",
    "    if (value > 280):\n",
    "        return True\n",
    "    return False\n",
    "\n",
    "def buyCheapAndExpensive(value):\n",
    "    if (value <= 100 or value > 280):\n",
    "        return True\n",
    "    return False\n",
    "\n",
    "def buyCheapAndMedium(value):\n",
    "    if (value <= 100  or (value <= 280 and value > 100)):\n",
    "        return True\n",
    "    return False\n",
    "\n",
    "def buyExpensiveAndMedium(value):\n",
    "    if (value > 280 or (value <= 280 and value > 100)):\n",
    "        return True\n",
    "    return False"
   ]
  },
  {
   "cell_type": "code",
   "execution_count": 8,
   "id": "f4aa83ba",
   "metadata": {},
   "outputs": [],
   "source": [
    "strategy = [noBuy, buyCheap, buyMedium, buyExpensive,buyCheapAndExpensive,buyCheapAndMedium,buyExpensiveAndMedium]"
   ]
  },
  {
   "cell_type": "code",
   "execution_count": 9,
   "id": "c9bac6a2",
   "metadata": {},
   "outputs": [],
   "source": [
    "def purchase(player):\n",
    "    debugPrint(\"------------\", \"--\")\n",
    "    debugPrint(\"beforePurchase:\", player)\n",
    "    pos = player[1]\n",
    "    value = gameDict[gameMap[pos]]\n",
    "    posType = value[0]\n",
    "    if posType != 1:\n",
    "        return\n",
    "    if(player[2] <= value[1]):\n",
    "        return\n",
    "    if(not strategy[player[3]](value[1])):\n",
    "        return\n",
    "    player[2] = player[2] - value[1]\n",
    "    housePurchase[pos] = player[0]\n",
    "    debugPrint(\"AfterPurchase:\", player)"
   ]
  },
  {
   "cell_type": "code",
   "execution_count": 10,
   "id": "3e905d0d",
   "metadata": {},
   "outputs": [],
   "source": [
    "def needRent(player):\n",
    "    pos = player[1]\n",
    "    return housePurchase[pos] != 0 and housePurchase[pos] != player[0]"
   ]
  },
  {
   "cell_type": "code",
   "execution_count": 11,
   "id": "f820fed0",
   "metadata": {},
   "outputs": [],
   "source": [
    "def rent(player):\n",
    "    debugPrint(\"------------\", \"--\")\n",
    "    debugPrint(\"beforeRent:\", player)\n",
    "    pos = player[1]\n",
    "    toPlayerId = housePurchase[pos]\n",
    "    toPlayer = playerList[toPlayerId]\n",
    "    rentValue = min(gameDict[gameMap[pos]][2], player[2])\n",
    "    toPlayer[2] += rentValue;\n",
    "    player[2] -=rentValue;\n",
    "    debugPrint(\"Rent:\", rentValue)\n",
    "    debugPrint(\"AfterRent:\", player)\n"
   ]
  },
  {
   "cell_type": "code",
   "execution_count": 12,
   "id": "642a709d",
   "metadata": {},
   "outputs": [],
   "source": [
    "def chance(player):\n",
    "    debugPrint(\"------------\", \"--\")\n",
    "    chance_destiny_pos = [0, 7, 10, 11, 24, 39]\n",
    "    utility = [12, 28]\n",
    "    randValue = int(16 * random.random() + 1)\n",
    "    debugPrint(\"beforeChance\",player)\n",
    "    debugPrint('randValue', randValue)\n",
    "    pos = player[1]\n",
    "    if(randValue <= 2):\n",
    "        nearestRailPos = 0\n",
    "        nearestValue = 9999\n",
    "        for i in range(len(railRoad)):\n",
    "            dist = abs(railRoad[i]-pos)\n",
    "            if(dist<nearestValue):\n",
    "                nearestRailPos = railRoad[i]\n",
    "                nearestValue = dist\n",
    "        player[1] = nearestRailPos\n",
    "        debugPrint(\"afterChance\",player)\n",
    "        return\n",
    "    if(randValue <= 3):\n",
    "        player[1] -= 3\n",
    "        debugPrint(\"afterChance\",player)\n",
    "        return\n",
    "    if(randValue <= 4):\n",
    "        nearestUtilityPos = 0\n",
    "        nearestValue = 9999\n",
    "        for i in range(len(utility)):\n",
    "            dist = abs(utility[i]-pos)\n",
    "            if(dist<nearestValue):\n",
    "                nearestUtilityPos = utility[i]\n",
    "                nearestValue = dist\n",
    "        player[1] = nearestUtilityPos\n",
    "        debugPrint(\"afterChance\",player)\n",
    "        return\n",
    "    if(randValue <= 10):\n",
    "        debugPrint(\"afterChance\",player)\n",
    "        return\n",
    "    player[1]=chance_destiny_pos[randValue-11]\n",
    "    debugPrint(\"afterChance\",player)"
   ]
  },
  {
   "cell_type": "code",
   "execution_count": 13,
   "id": "5d9f2cf0",
   "metadata": {},
   "outputs": [],
   "source": [
    "def community(player):\n",
    "    debugPrint(\"------------\", \"--\")\n",
    "    debugPrint(\"beforeCommunity\",player)\n",
    "    community_destiny_pos = [0, 10]\n",
    "    randValue = int(16 * random.random() + 1)\n",
    "    debugPrint(\"randValue\",randValue)\n",
    "    if (randValue <= 2):\n",
    "        player[1]=community_destiny_pos[randValue-1]\n",
    "    debugPrint(\"afterCommunity\",player)"
   ]
  },
  {
   "cell_type": "code",
   "execution_count": 14,
   "id": "bfad96e8",
   "metadata": {},
   "outputs": [],
   "source": [
    "def game(MaxRound = 999999):\n",
    "    curPlayerId = 1\n",
    "    roundNumber = 0\n",
    "    while(MaxRound > 0):\n",
    "        MaxRound -= 1\n",
    "        roundNumber += 1\n",
    "        end = False\n",
    "        for i in range(len(playerList)):\n",
    "            if(playerList[i][2] <= 0):\n",
    "                end = True\n",
    "                print('result', playerList)\n",
    "                return playerList[i][0];\n",
    "        t1 = diceOnce()\n",
    "        t2 = diceOnce()\n",
    "        move = t1 + t2\n",
    "        curPlayer = playerList[curPlayerId]\n",
    "        posBeforeMove = curPlayer[1]\n",
    "        curPos = posBeforeMove + move\n",
    "        curPos = curPos % 40\n",
    "        debugPrint(\"------------\", \"--\")\n",
    "        debugPrint('roundNumber', roundNumber)\n",
    "        debugPrint('current PlayerId',curPlayerId)\n",
    "        debugPrint('curent Position',curPos)\n",
    "        debugPrint('curent Position Type',gameMap[curPos])\n",
    "        posType = gameDict[gameMap[curPos]][0]\n",
    "        if(posType == 0):\n",
    "            playerList[curPlayerId][1] = curPos\n",
    "            curPlayerId = curPlayerId + 1\n",
    "            if(curPlayerId == len(playerList)):\n",
    "                curPlayerId = 1\n",
    "            continue\n",
    "        if(posType == 4):\n",
    "            playerList[curPlayerId][1] = 10\n",
    "            curPlayerId = curPlayerId + 1\n",
    "            if(curPlayerId == len(playerList)):\n",
    "                curPlayerId = 1\n",
    "            continue\n",
    "        if(posType == 1):\n",
    "            playerList[curPlayerId][1] = curPos\n",
    "            if(housePurchase[curPos] == 0):\n",
    "                purchase(playerList[curPlayerId])\n",
    "                curPlayerId = curPlayerId + 1\n",
    "                if(curPlayerId == len(playerList)):\n",
    "                    curPlayerId = 1\n",
    "                continue\n",
    "            if(needRent(playerList[curPlayerId])):\n",
    "                rent(playerList[curPlayerId])\n",
    "                curPlayerId = curPlayerId + 1\n",
    "                if(curPlayerId == len(playerList)):\n",
    "                    curPlayerId = 1\n",
    "                continue\n",
    "        if(posType == 2):\n",
    "            playerList[curPlayerId][1] = curPos\n",
    "            community(playerList[curPlayerId])\n",
    "            curPlayerId = curPlayerId + 1\n",
    "            if(curPlayerId == len(playerList)):\n",
    "                curPlayerId = 1\n",
    "            continue\n",
    "        if(posType == 3):\n",
    "            playerList[curPlayerId][1] = curPos\n",
    "            chance(playerList[curPlayerId])\n",
    "            curPlayerId = curPlayerId + 1\n",
    "            if(curPlayerId == len(playerList)):\n",
    "                curPlayerId = 1\n",
    "            continue"
   ]
  },
  {
   "cell_type": "code",
   "execution_count": 15,
   "id": "1add11b3",
   "metadata": {},
   "outputs": [],
   "source": [
    "#id, position, debit, playerType 1: 一直买， 2：只买expensive\n",
    "player1 = [1, 0, 500, 1]\n",
    "player2 = [2, 0, 500, 2]\n",
    "playerList = [[0, 0 ,99999], player1, player2]\n",
    "housePurchase = [0] * 40\n",
    "debugSw = True"
   ]
  },
  {
   "cell_type": "code",
   "execution_count": null,
   "id": "3be0417a",
   "metadata": {},
   "outputs": [],
   "source": [
    "game()"
   ]
  },
  {
   "cell_type": "markdown",
   "id": "bd296d92",
   "metadata": {},
   "source": [
    "Probability of each tile landed"
   ]
  },
  {
   "cell_type": "code",
   "execution_count": 36,
   "id": "fc3e2eff",
   "metadata": {},
   "outputs": [],
   "source": [
    "prob_player1 = [1, 0, 500, 0]\n",
    "prob_player2 = [2, 0, 500, 0]\n",
    "playerList = [[0, 0 ,99999], prob_player1, prob_player2]\n",
    "housePurchase = [0] * 40\n",
    "debugSw = False"
   ]
  },
  {
   "cell_type": "code",
   "execution_count": 37,
   "id": "f403d535",
   "metadata": {},
   "outputs": [],
   "source": [
    "count = [0]*40"
   ]
  },
  {
   "cell_type": "code",
   "execution_count": 38,
   "id": "df17d304",
   "metadata": {},
   "outputs": [],
   "source": [
    "def gameCountProb(MaxRound = 999999):\n",
    "    curPlayerId = 1\n",
    "    roundNumber = 0\n",
    "    while(MaxRound > 0):\n",
    "        MaxRound -= 1\n",
    "        roundNumber += 1\n",
    "        end = False\n",
    "        for i in range(len(playerList)):\n",
    "            if(playerList[i][2] <= 0):\n",
    "                end = True\n",
    "                break\n",
    "        if(end):\n",
    "            break\n",
    "        t1 = diceOnce()\n",
    "        t2 = diceOnce()\n",
    "        move = t1 + t2\n",
    "        curPlayer = playerList[curPlayerId]\n",
    "        posBeforeMove = curPlayer[1]\n",
    "        curPos = posBeforeMove + move\n",
    "        curPos = curPos % 40\n",
    "        debugPrint(\"------------\", \"--\")\n",
    "        debugPrint('roundNumber', roundNumber)\n",
    "        debugPrint('current PlayerId',curPlayerId)\n",
    "        debugPrint('curent Position',curPos)\n",
    "        debugPrint('curent Position Type',gameMap[curPos])\n",
    "        posType = gameDict[gameMap[curPos]][0]\n",
    "        if(posType == 0):\n",
    "            playerList[curPlayerId][1] = curPos\n",
    "            curPlayerId = curPlayerId + 1\n",
    "            if(curPlayerId == len(playerList)):\n",
    "                curPlayerId = 1\n",
    "            count[playerList[curPlayerId][1]] += 1;\n",
    "            continue\n",
    "        if(posType == 4):\n",
    "            playerList[curPlayerId][1] = 10\n",
    "            curPlayerId = curPlayerId + 1\n",
    "            if(curPlayerId == len(playerList)):\n",
    "                curPlayerId = 1\n",
    "            count[playerList[curPlayerId][1]] += 1;\n",
    "            continue\n",
    "        if(posType == 1):\n",
    "            playerList[curPlayerId][1] = curPos\n",
    "            if(housePurchase[curPos] == 0):\n",
    "                purchase(playerList[curPlayerId])\n",
    "                curPlayerId = curPlayerId + 1\n",
    "                if(curPlayerId == len(playerList)):\n",
    "                    curPlayerId = 1\n",
    "                count[playerList[curPlayerId][1]] += 1;\n",
    "                continue\n",
    "            if(needRent(playerList[curPlayerId])):\n",
    "                rent(playerList[curPlayerId])\n",
    "                curPlayerId = curPlayerId + 1\n",
    "                if(curPlayerId == len(playerList)):\n",
    "                    curPlayerId = 1\n",
    "                count[playerList[curPlayerId][1]] += 1;\n",
    "                continue\n",
    "        if(posType == 2):\n",
    "            playerList[curPlayerId][1] = curPos\n",
    "            community(playerList[curPlayerId])\n",
    "            curPlayerId = curPlayerId + 1\n",
    "            if(curPlayerId == len(playerList)):\n",
    "                curPlayerId = 1\n",
    "            count[playerList[curPlayerId][1]] += 1;\n",
    "            continue\n",
    "        if(posType == 3):\n",
    "            playerList[curPlayerId][1] = curPos\n",
    "            chance(playerList[curPlayerId])\n",
    "            curPlayerId = curPlayerId + 1\n",
    "            if(curPlayerId == len(playerList)):\n",
    "                curPlayerId = 1\n",
    "            count[playerList[curPlayerId][1]] += 1;\n",
    "            continue\n",
    "    debugPrint('result', playerList)"
   ]
  },
  {
   "cell_type": "code",
   "execution_count": 39,
   "id": "8b9865b9",
   "metadata": {},
   "outputs": [],
   "source": [
    "gameCountProb(100000000)"
   ]
  },
  {
   "cell_type": "code",
   "execution_count": 40,
   "id": "5e1a8ed9",
   "metadata": {},
   "outputs": [
    {
     "name": "stdout",
     "output_type": "stream",
     "text": [
      "[3130877, 2186384, 1942125, 2228815, 2395433, 2569982, 2319685, 1346670, 2351764, 2336089, 5867589, 2739720, 2484318, 2408095, 2508033, 2658126, 2799283, 2579001, 2914669, 3042133, 2836072, 2788288, 1030674, 2699257, 3151967, 3026331, 2675932, 2650085, 2925048, 2562584, 0, 2660873, 2612589, 2380600, 2503368, 2734375, 871336, 2207352, 2207833, 2666645]\n"
     ]
    }
   ],
   "source": [
    "print(count)"
   ]
  },
  {
   "cell_type": "code",
   "execution_count": 41,
   "id": "a168ce3b",
   "metadata": {},
   "outputs": [
    {
     "data": {
      "text/plain": [
       "100000000"
      ]
     },
     "execution_count": 41,
     "metadata": {},
     "output_type": "execute_result"
    }
   ],
   "source": [
    "sum(count)"
   ]
  },
  {
   "cell_type": "code",
   "execution_count": 42,
   "id": "ffee3bb4",
   "metadata": {},
   "outputs": [
    {
     "name": "stdout",
     "output_type": "stream",
     "text": [
      "[0.03130877, 0.022570494411241294, 0.020511922441268125, 0.024032782424884234, 0.02646542245166476, 0.029165773771895047, 0.027116108096662782, 0.01618074504034473, 0.028722070852364272, 0.029374323623924482, 0.07601274228339755, 0.038411999318943325, 0.036222538517166704, 0.0364307864554289, 0.03937723898304388, 0.0434444902087729, 0.04782949227988653, 0.04627918994604987, 0.05484060289722998, 0.0605600351886705, 0.06009746340334121, 0.06286279647894913, 0.024795576367357398, 0.06658884172539216, 0.08330400803066601, 0.08725198746602758, 0.08452459094404291, 0.09143682221208083, 0.11108084742212408, 0.10947678414033457, 0.0, 0.1276505880697228, 0.14367436668069591, 0.15288176160115416, 0.18977976663590101, 0.25584692072559856, 0.1095583492890323, 0.3116922069746692, 0.45293705878702734, 0.9999987773797112]\n"
     ]
    }
   ],
   "source": [
    "for i in range(len(count)):\n",
    "    count[i] = count[i]/sum(count)\n",
    "print(count)"
   ]
  },
  {
   "cell_type": "markdown",
   "id": "6c706541",
   "metadata": {},
   "source": [
    "Test for different Strategy"
   ]
  },
  {
   "cell_type": "code",
   "execution_count": 46,
   "id": "9b4ec2b0",
   "metadata": {},
   "outputs": [],
   "source": [
    "#Comparing only Cheap & only Medium - First Mover only buy cheap\n",
    "def init():\n",
    "    global test_player1\n",
    "    global test_player2\n",
    "    global playerList\n",
    "    global housePurchase\n",
    "    global debugSw\n",
    "    test_player1 = [1, 0, 500, 1] #only buyCheap\n",
    "    test_player2 = [2, 0, 500, 2] #only buyMedium\n",
    "    playerList = [[0, 0 ,99999], test_player1, test_player2]\n",
    "    housePurchase = [0] * 40\n",
    "    debugSw = False"
   ]
  },
  {
   "cell_type": "code",
   "execution_count": null,
   "id": "0b18ce18",
   "metadata": {},
   "outputs": [],
   "source": [
    "loseTime = [0] * 10\n",
    "for i in range(10000):\n",
    "    init()\n",
    "    a = game()\n",
    "    loseTime[a] += 1"
   ]
  },
  {
   "cell_type": "code",
   "execution_count": 48,
   "id": "4302138d",
   "metadata": {},
   "outputs": [
    {
     "data": {
      "text/plain": [
       "[0, 7089, 2911, 0, 0, 0, 0, 0, 0, 0]"
      ]
     },
     "execution_count": 48,
     "metadata": {},
     "output_type": "execute_result"
    }
   ],
   "source": [
    "loseTime"
   ]
  },
  {
   "cell_type": "code",
   "execution_count": 49,
   "id": "32e1cec9",
   "metadata": {},
   "outputs": [],
   "source": [
    "#Comparing only Cheap & only Medium - First Mover only buy medium\n",
    "def init():\n",
    "    global test_player1\n",
    "    global test_player2\n",
    "    global playerList\n",
    "    global housePurchase\n",
    "    global debugSw\n",
    "    test_player1 = [1, 0, 500, 1] #only buyCheap\n",
    "    test_player2 = [2, 0, 500, 2] #only buyMedium\n",
    "    playerList = [[0, 0 ,99999], test_player1, test_player2]\n",
    "    housePurchase = [0] * 40\n",
    "    debugSw = False"
   ]
  },
  {
   "cell_type": "code",
   "execution_count": null,
   "id": "c0361002",
   "metadata": {},
   "outputs": [],
   "source": [
    "loseTime = [0] * 10\n",
    "for i in range(10000):\n",
    "    init()\n",
    "    a = game()\n",
    "    loseTime[a] += 1"
   ]
  },
  {
   "cell_type": "code",
   "execution_count": 51,
   "id": "dd17dac6",
   "metadata": {},
   "outputs": [
    {
     "data": {
      "text/plain": [
       "[0, 7042, 2958, 0, 0, 0, 0, 0, 0, 0]"
      ]
     },
     "execution_count": 51,
     "metadata": {},
     "output_type": "execute_result"
    }
   ],
   "source": [
    "loseTime"
   ]
  },
  {
   "cell_type": "code",
   "execution_count": null,
   "id": "f52567ee",
   "metadata": {},
   "outputs": [],
   "source": []
  },
  {
   "cell_type": "code",
   "execution_count": 52,
   "id": "b5730a33",
   "metadata": {},
   "outputs": [],
   "source": [
    "#Comparing only Cheap & only Expensive - First Mover only buy Cheap\n",
    "def init():\n",
    "    global test_player1\n",
    "    global test_player2\n",
    "    global playerList\n",
    "    global housePurchase\n",
    "    global debugSw\n",
    "    test_player1 = [1, 0, 500, 1] #only buy Cheap\n",
    "    test_player2 = [2, 0, 500, 3] #only buy Expensive\n",
    "    playerList = [[0, 0 ,99999], test_player1, test_player2]\n",
    "    housePurchase = [0] * 40\n",
    "    debugSw = False"
   ]
  },
  {
   "cell_type": "code",
   "execution_count": null,
   "id": "82a37e2e",
   "metadata": {},
   "outputs": [],
   "source": [
    "loseTime = [0] * 10\n",
    "for i in range(10000):\n",
    "    init()\n",
    "    a = game()\n",
    "    loseTime[a] += 1"
   ]
  },
  {
   "cell_type": "code",
   "execution_count": 54,
   "id": "dd0b052e",
   "metadata": {},
   "outputs": [
    {
     "data": {
      "text/plain": [
       "[0, 7104, 2896, 0, 0, 0, 0, 0, 0, 0]"
      ]
     },
     "execution_count": 54,
     "metadata": {},
     "output_type": "execute_result"
    }
   ],
   "source": [
    "loseTime"
   ]
  },
  {
   "cell_type": "code",
   "execution_count": 55,
   "id": "b382c16e",
   "metadata": {},
   "outputs": [],
   "source": [
    "#Comparing only Cheap & only Expensive - First Mover only buy Cheap\n",
    "def init():\n",
    "    global test_player1\n",
    "    global test_player2\n",
    "    global playerList\n",
    "    global housePurchase\n",
    "    global debugSw\n",
    "    test_player1 = [1, 0, 500, 3] #only buy Cheap\n",
    "    test_player2 = [2, 0, 500, 1] #only buy Expensive\n",
    "    playerList = [[0, 0 ,99999], test_player1, test_player2]\n",
    "    housePurchase = [0] * 40\n",
    "    debugSw = False"
   ]
  },
  {
   "cell_type": "code",
   "execution_count": null,
   "id": "12547a91",
   "metadata": {},
   "outputs": [],
   "source": [
    "loseTime = [0] * 10\n",
    "for i in range(10000):\n",
    "    init()\n",
    "    a = game()\n",
    "    loseTime[a] += 1"
   ]
  },
  {
   "cell_type": "code",
   "execution_count": 57,
   "id": "4fb01ad5",
   "metadata": {},
   "outputs": [
    {
     "data": {
      "text/plain": [
       "[0, 2735, 7265, 0, 0, 0, 0, 0, 0, 0]"
      ]
     },
     "execution_count": 57,
     "metadata": {},
     "output_type": "execute_result"
    }
   ],
   "source": [
    "loseTime"
   ]
  },
  {
   "cell_type": "code",
   "execution_count": null,
   "id": "4b792672",
   "metadata": {},
   "outputs": [],
   "source": []
  }
 ],
 "metadata": {
  "kernelspec": {
   "display_name": "Python 3 (ipykernel)",
   "language": "python",
   "name": "python3"
  },
  "language_info": {
   "codemirror_mode": {
    "name": "ipython",
    "version": 3
   },
   "file_extension": ".py",
   "mimetype": "text/x-python",
   "name": "python",
   "nbconvert_exporter": "python",
   "pygments_lexer": "ipython3",
   "version": "3.9.12"
  }
 },
 "nbformat": 4,
 "nbformat_minor": 5
}
